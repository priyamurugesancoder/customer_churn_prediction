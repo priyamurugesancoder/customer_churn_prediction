{
 "cells": [
  {
   "cell_type": "code",
   "execution_count": 1,
   "id": "51b487f3-72c8-49de-a321-91aacc1daaa5",
   "metadata": {},
   "outputs": [],
   "source": [
    "# Import dependencies\n",
    "import pandas as pd\n",
    "import numpy as np\n",
    "import seaborn as sns\n",
    "import matplotlib.pyplot as plt\n",
    "import warnings\n",
    "import joblib\n",
    "\n",
    "from sklearn.model_selection import train_test_split, cross_val_score, GridSearchCV\n",
    "from sklearn.linear_model import LogisticRegression\n",
    "from sklearn.tree import DecisionTreeClassifier\n",
    "from sklearn.ensemble import RandomForestClassifier\n",
    "from xgboost import XGBClassifier\n",
    "from sklearn.compose import ColumnTransformer\n",
    "from sklearn.preprocessing import StandardScaler, OneHotEncoder\n",
    "from sklearn.pipeline import Pipeline\n",
    "from sklearn.metrics import confusion_matrix\n",
    "\n",
    "warnings.filterwarnings('ignore', category=UserWarning, module='sklearn')\n"
   ]
  },
  {
   "cell_type": "code",
   "execution_count": 2,
   "id": "a6946016-649b-4e5e-b689-e9c09c1822aa",
   "metadata": {},
   "outputs": [],
   "source": [
    "# Load dataset\n",
    "data = pd.read_csv('customer churn.csv')\n",
    "\n",
    "# Drop customerID if exists\n",
    "if 'customerID' in data.columns:\n",
    "    data.drop('customerID', axis=1, inplace=True)\n",
    "\n",
    "# Convert target variable to numeric\n",
    "data['Churn'] = data['Churn'].map({'No': 0, 'Yes': 1})\n",
    "X = data.drop('Churn', axis=1)\n",
    "y = data['Churn'].astype(int)\n"
   ]
  },
  {
   "cell_type": "code",
   "execution_count": 3,
   "id": "efd7031e-31b7-45ff-8eb5-44edcc4d15d0",
   "metadata": {},
   "outputs": [
    {
     "name": "stdout",
     "output_type": "stream",
     "text": [
      "First 5 Rows of the Dataset:\n",
      "   gender  SeniorCitizen Partner Dependents  tenure PhoneService  \\\n",
      "0  Female              0     Yes         No       1           No   \n",
      "1    Male              0      No         No      34          Yes   \n",
      "2    Male              0      No         No       2          Yes   \n",
      "3    Male              0      No         No      45           No   \n",
      "4  Female              0      No         No       2          Yes   \n",
      "\n",
      "      MultipleLines InternetService OnlineSecurity OnlineBackup  \\\n",
      "0  No phone service             DSL             No          Yes   \n",
      "1                No             DSL            Yes           No   \n",
      "2                No             DSL            Yes          Yes   \n",
      "3  No phone service             DSL            Yes           No   \n",
      "4                No     Fiber optic             No           No   \n",
      "\n",
      "  DeviceProtection TechSupport StreamingTV StreamingMovies        Contract  \\\n",
      "0               No          No          No              No  Month-to-month   \n",
      "1              Yes          No          No              No        One year   \n",
      "2               No          No          No              No  Month-to-month   \n",
      "3              Yes         Yes          No              No        One year   \n",
      "4               No          No          No              No  Month-to-month   \n",
      "\n",
      "  PaperlessBilling              PaymentMethod  MonthlyCharges TotalCharges  \\\n",
      "0              Yes           Electronic check           29.85        29.85   \n",
      "1               No               Mailed check           56.95       1889.5   \n",
      "2              Yes               Mailed check           53.85       108.15   \n",
      "3               No  Bank transfer (automatic)           42.30      1840.75   \n",
      "4              Yes           Electronic check           70.70       151.65   \n",
      "\n",
      "   Churn  \n",
      "0      0  \n",
      "1      0  \n",
      "2      1  \n",
      "3      0  \n",
      "4      1   \n",
      "\n",
      "Dataset Shape:\n",
      "Rows: 7043, Columns: 20\n",
      "\n",
      "Data Types and Non-Null Counts:\n",
      "<class 'pandas.core.frame.DataFrame'>\n",
      "RangeIndex: 7043 entries, 0 to 7042\n",
      "Data columns (total 20 columns):\n",
      " #   Column            Non-Null Count  Dtype  \n",
      "---  ------            --------------  -----  \n",
      " 0   gender            7043 non-null   object \n",
      " 1   SeniorCitizen     7043 non-null   int64  \n",
      " 2   Partner           7043 non-null   object \n",
      " 3   Dependents        7043 non-null   object \n",
      " 4   tenure            7043 non-null   int64  \n",
      " 5   PhoneService      7043 non-null   object \n",
      " 6   MultipleLines     7043 non-null   object \n",
      " 7   InternetService   7043 non-null   object \n",
      " 8   OnlineSecurity    7043 non-null   object \n",
      " 9   OnlineBackup      7043 non-null   object \n",
      " 10  DeviceProtection  7043 non-null   object \n",
      " 11  TechSupport       7043 non-null   object \n",
      " 12  StreamingTV       7043 non-null   object \n",
      " 13  StreamingMovies   7043 non-null   object \n",
      " 14  Contract          7043 non-null   object \n",
      " 15  PaperlessBilling  7043 non-null   object \n",
      " 16  PaymentMethod     7043 non-null   object \n",
      " 17  MonthlyCharges    7043 non-null   float64\n",
      " 18  TotalCharges      7043 non-null   object \n",
      " 19  Churn             7043 non-null   int64  \n",
      "dtypes: float64(1), int64(3), object(16)\n",
      "memory usage: 1.1+ MB\n",
      "None \n",
      "\n",
      "Missing Values:\n",
      "gender              0\n",
      "SeniorCitizen       0\n",
      "Partner             0\n",
      "Dependents          0\n",
      "tenure              0\n",
      "PhoneService        0\n",
      "MultipleLines       0\n",
      "InternetService     0\n",
      "OnlineSecurity      0\n",
      "OnlineBackup        0\n",
      "DeviceProtection    0\n",
      "TechSupport         0\n",
      "StreamingTV         0\n",
      "StreamingMovies     0\n",
      "Contract            0\n",
      "PaperlessBilling    0\n",
      "PaymentMethod       0\n",
      "MonthlyCharges      0\n",
      "TotalCharges        0\n",
      "Churn               0\n",
      "dtype: int64 \n",
      "\n",
      "Summary Statistics (Numerical Features):\n",
      "       SeniorCitizen       tenure  MonthlyCharges        Churn\n",
      "count    7043.000000  7043.000000     7043.000000  7043.000000\n",
      "mean        0.162147    32.371149       64.761692     0.265370\n",
      "std         0.368612    24.559481       30.090047     0.441561\n",
      "min         0.000000     0.000000       18.250000     0.000000\n",
      "25%         0.000000     9.000000       35.500000     0.000000\n",
      "50%         0.000000    29.000000       70.350000     0.000000\n",
      "75%         0.000000    55.000000       89.850000     1.000000\n",
      "max         1.000000    72.000000      118.750000     1.000000 \n",
      "\n",
      "Summary Statistics (Categorical Features):\n",
      "       gender Partner Dependents PhoneService MultipleLines InternetService  \\\n",
      "count    7043    7043       7043         7043          7043            7043   \n",
      "unique      2       2          2            2             3               3   \n",
      "top      Male      No         No          Yes            No     Fiber optic   \n",
      "freq     3555    3641       4933         6361          3390            3096   \n",
      "\n",
      "       OnlineSecurity OnlineBackup DeviceProtection TechSupport StreamingTV  \\\n",
      "count            7043         7043             7043        7043        7043   \n",
      "unique              3            3                3           3           3   \n",
      "top                No           No               No          No          No   \n",
      "freq             3498         3088             3095        3473        2810   \n",
      "\n",
      "       StreamingMovies        Contract PaperlessBilling     PaymentMethod  \\\n",
      "count             7043            7043             7043              7043   \n",
      "unique               3               3                2                 4   \n",
      "top                 No  Month-to-month              Yes  Electronic check   \n",
      "freq              2785            3875             4171              2365   \n",
      "\n",
      "       TotalCharges  \n",
      "count          7043  \n",
      "unique         6531  \n",
      "top                  \n",
      "freq             11  \n"
     ]
    }
   ],
   "source": [
    "# Data Overview Block\n",
    "print(\"First 5 Rows of the Dataset:\")\n",
    "print(data.head(), '\\n')\n",
    "\n",
    "print(\"Dataset Shape:\")\n",
    "print(f\"Rows: {data.shape[0]}, Columns: {data.shape[1]}\\n\")\n",
    "\n",
    "print(\"Data Types and Non-Null Counts:\")\n",
    "print(data.info(), '\\n')\n",
    "\n",
    "print(\"Missing Values:\")\n",
    "print(data.isnull().sum(), '\\n')\n",
    "\n",
    "print(\"Summary Statistics (Numerical Features):\")\n",
    "print(data.describe(), '\\n')\n",
    "\n",
    "print(\"Summary Statistics (Categorical Features):\")\n",
    "print(data.describe(include='object'))\n"
   ]
  },
  {
   "cell_type": "code",
   "execution_count": 4,
   "id": "edce9a41-8324-4ad5-bea3-6b875f1b2b6f",
   "metadata": {},
   "outputs": [
    {
     "name": "stdout",
     "output_type": "stream",
     "text": [
      "Churn distribution:\n",
      " Churn\n",
      "0    0.73463\n",
      "1    0.26537\n",
      "Name: proportion, dtype: float64\n"
     ]
    },
    {
     "data": {
      "image/png": "[encoded data removed]",
      "text/plain": [
       "<Figure size 640x480 with 1 Axes>"
      ]
     },
     "metadata": {},
     "output_type": "display_data"
    }
   ],
   "source": [
    "# Churn distribution\n",
    "# Check class imbalance\n",
    "print(\"Churn distribution:\\n\", y.value_counts(normalize=True))\n",
    "sns.countplot(x='Churn', data=data)\n",
    "plt.title('Churn Distribution')\n",
    "plt.xticks([0, 1], ['No', 'Yes'])\n",
    "plt.show()"
   ]
  },
  {
   "cell_type": "code",
   "execution_count": 5,
   "id": "2f16217b-ff94-48f1-a3bd-d67bca4c9a04",
   "metadata": {},
   "outputs": [],
   "source": [
    "# Identify feature types\n",
    "numerical_features = X.select_dtypes(include=['int64', 'float64']).columns.tolist()\n",
    "categorical_features = X.select_dtypes(include=['object']).columns.tolist()\n",
    "\n",
    "# Preprocessing pipeline\n",
    "preprocessor = ColumnTransformer([\n",
    "    ('num', StandardScaler(), numerical_features),\n",
    "    ('cat', OneHotEncoder(drop='first', handle_unknown='ignore'), categorical_features)\n",
    "])\n"
   ]
  },
  {
   "cell_type": "code",
   "execution_count": 6,
   "id": "f79079d9-983c-423b-8f72-c39e39d1bc9d",
   "metadata": {},
   "outputs": [],
   "source": [
    "# Define pipelines with class balancing\n",
    "pipelines = {\n",
    "    'Logistic Regression': Pipeline([\n",
    "        ('preprocessor', preprocessor),\n",
    "        ('classifier', LogisticRegression(class_weight='balanced'))\n",
    "    ]),\n",
    "    'Decision Tree': Pipeline([\n",
    "        ('preprocessor', preprocessor),\n",
    "        ('classifier', DecisionTreeClassifier(class_weight='balanced', random_state=42))\n",
    "    ]),\n",
    "    'Random Forest': Pipeline([\n",
    "        ('preprocessor', preprocessor),\n",
    "        ('classifier', RandomForestClassifier(class_weight='balanced', random_state=42))\n",
    "    ]),\n",
    "    'XGBoost': Pipeline([\n",
    "        ('preprocessor', preprocessor),\n",
    "        ('classifier', XGBClassifier(scale_pos_weight=y.value_counts()[0]/y.value_counts()[1],\n",
    "                                     use_label_encoder=False, eval_metric='logloss', random_state=42))\n",
    "    ])\n",
    "}\n"
   ]
  },
  {
   "cell_type": "code",
   "execution_count": 7,
   "id": "5ba3ba54-dca1-40a7-863a-ab5fc381eb56",
   "metadata": {},
   "outputs": [
    {
     "name": "stdout",
     "output_type": "stream",
     "text": [
      "\n",
      "Logistic Regression Cross-Validation ROC AUC Scores: [0.85632799 0.85856519 0.83386422 0.83724858 0.83696046]\n",
      "Logistic Regression Mean ROC AUC: 0.8446\n",
      "\n",
      "Decision Tree Cross-Validation ROC AUC Scores: [0.72276473 0.7197706  0.68766953 0.67215034 0.7011127 ]\n",
      "Decision Tree Mean ROC AUC: 0.7007\n",
      "\n",
      "Random Forest Cross-Validation ROC AUC Scores: [0.84903511 0.84625281 0.81352528 0.81976014 0.82341822]\n",
      "Random Forest Mean ROC AUC: 0.8304\n"
     ]
    },
    {
     "name": "stderr",
     "output_type": "stream",
     "text": [
      "C:\\Users\\Administrator\\AppData\\Local\\Programs\\Python\\Python313\\Lib\\site-packages\\xgboost\\training.py:183: UserWarning: [18:06:46] WARNING: C:\\actions-runner\\_work\\xgboost\\xgboost\\src\\learner.cc:738: \n",
      "Parameters: { \"use_label_encoder\" } are not used.\n",
      "\n",
      "  bst.update(dtrain, iteration=i, fobj=obj)\n",
      "C:\\Users\\Administrator\\AppData\\Local\\Programs\\Python\\Python313\\Lib\\site-packages\\xgboost\\training.py:183: UserWarning: [18:06:47] WARNING: C:\\actions-runner\\_work\\xgboost\\xgboost\\src\\learner.cc:738: \n",
      "Parameters: { \"use_label_encoder\" } are not used.\n",
      "\n",
      "  bst.update(dtrain, iteration=i, fobj=obj)\n",
      "C:\\Users\\Administrator\\AppData\\Local\\Programs\\Python\\Python313\\Lib\\site-packages\\xgboost\\training.py:183: UserWarning: [18:06:48] WARNING: C:\\actions-runner\\_work\\xgboost\\xgboost\\src\\learner.cc:738: \n",
      "Parameters: { \"use_label_encoder\" } are not used.\n",
      "\n",
      "  bst.update(dtrain, iteration=i, fobj=obj)\n",
      "C:\\Users\\Administrator\\AppData\\Local\\Programs\\Python\\Python313\\Lib\\site-packages\\xgboost\\training.py:183: UserWarning: [18:06:49] WARNING: C:\\actions-runner\\_work\\xgboost\\xgboost\\src\\learner.cc:738: \n",
      "Parameters: { \"use_label_encoder\" } are not used.\n",
      "\n",
      "  bst.update(dtrain, iteration=i, fobj=obj)\n",
      "C:\\Users\\Administrator\\AppData\\Local\\Programs\\Python\\Python313\\Lib\\site-packages\\xgboost\\training.py:183: UserWarning: [18:06:50] WARNING: C:\\actions-runner\\_work\\xgboost\\xgboost\\src\\learner.cc:738: \n",
      "Parameters: { \"use_label_encoder\" } are not used.\n",
      "\n",
      "  bst.update(dtrain, iteration=i, fobj=obj)\n"
     ]
    },
    {
     "name": "stdout",
     "output_type": "stream",
     "text": [
      "\n",
      "XGBoost Cross-Validation ROC AUC Scores: [0.82956418 0.84496887 0.80952492 0.81371696 0.82285967]\n",
      "XGBoost Mean ROC AUC: 0.8241\n"
     ]
    }
   ],
   "source": [
    "# Function to evaluate model\n",
    "def evaluate_model_cv(name, model):\n",
    "    roc_auc_scores = cross_val_score(model, X, y, cv=5, scoring='roc_auc')\n",
    "    print(f'\\n{name} Cross-Validation ROC AUC Scores: {roc_auc_scores}')\n",
    "    print(f\"{name} Mean ROC AUC: {roc_auc_scores.mean():.4f}\")\n",
    "    return {\n",
    "        'Model': name,\n",
    "        'Mean ROC AUC': roc_auc_scores.mean()\n",
    "    }\n",
    "\n",
    "# Evaluate all models\n",
    "results = []\n",
    "for name, pipeline in pipelines.items():\n",
    "    result = evaluate_model_cv(name, pipeline)\n",
    "    results.append(result)\n"
   ]
  },
  {
   "cell_type": "code",
   "execution_count": 12,
   "id": "bfb39d5d-4a16-4342-a879-e0ce82911bdd",
   "metadata": {},
   "outputs": [
    {
     "name": "stdout",
     "output_type": "stream",
     "text": [
      "\n",
      "Model Performance Summary (Cross-Validated):\n",
      "                 Model  Mean ROC AUC\n",
      "0  Logistic Regression      0.844593\n",
      "2        Random Forest      0.830398\n",
      "3              XGBoost      0.824127\n",
      "1        Decision Tree      0.700694\n"
     ]
    },
    {
     "data": {
      "image/png": "[encoded data removed]",
      "text/plain": [
       "<Figure size 640x480 with 1 Axes>"
      ]
     },
     "metadata": {},
     "output_type": "display_data"
    }
   ],
   "source": [
    "# Performance summary\n",
    "results_df = pd.DataFrame(results)\n",
    "print(\"\\nModel Performance Summary (Cross-Validated):\")\n",
    "print(results_df.sort_values(by='Mean ROC AUC', ascending=False))\n",
    "\n",
    "# Plot comparison\n",
    "sns.barplot(x='Mean ROC AUC', y='Model', data=results_df.sort_values(by='Mean ROC AUC', ascending=False))\n",
    "plt.title('Cross-Validated ROC AUC Score by Model')\n",
    "plt.xlabel('Mean ROC AUC Score')\n",
    "plt.ylabel('Model')\n",
    "plt.tight_layout()\n",
    "plt.show()"
   ]
  },
  {
   "cell_type": "code",
   "execution_count": 14,
   "id": "b8cd71db-44c0-4549-b59d-b6f298999690",
   "metadata": {},
   "outputs": [
    {
     "name": "stdout",
     "output_type": "stream",
     "text": [
      "\n",
      "Saved best model: Logistic Regression to 'logistic_regression_pipeline.pkl'\n"
     ]
    }
   ],
   "source": [
    "# Save best model\n",
    "best_model_name = results_df.sort_values(by='Mean ROC AUC', ascending=False).iloc[0]['Model']\n",
    "best_pipeline = pipelines[best_model_name]\n",
    "best_pipeline.fit(X, y)\n",
    "model_filename = f\"{best_model_name.lower().replace(' ', '_')}_pipeline.pkl\"\n",
    "joblib.dump(best_pipeline, model_filename)\n",
    "print(f\"\\nSaved best model: {best_model_name} to '{model_filename}'\")\n"
   ]
  }
 ],
 "metadata": {
  "kernelspec": {
   "display_name": "Python 3 (ipykernel)",
   "language": "python",
   "name": "python3"
  },
  "language_info": {
   "codemirror_mode": {
    "name": "ipython",
    "version": 3
   },
   "file_extension": ".py",
   "mimetype": "text/x-python",
   "name": "python",
   "nbconvert_exporter": "python",
   "pygments_lexer": "ipython3",
   "version": "3.13.1"
  }
 },
 "nbformat": 4,
 "nbformat_minor": 5
}
